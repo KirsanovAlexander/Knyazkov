{
 "cells": [
  {
   "cell_type": "code",
   "execution_count": 1,
   "metadata": {},
   "outputs": [
    {
     "name": "stdout",
     "output_type": "stream",
     "text": [
      "Listening on port 8018...\n"
     ]
    },
    {
     "name": "stderr",
     "output_type": "stream",
     "text": [
      "127.0.0.1 - - [19/Dec/2024 19:46:09] \"POST /RPC2 HTTP/1.1\" 200 -\n",
      "127.0.0.1 - - [19/Dec/2024 19:46:09] \"POST /RPC2 HTTP/1.1\" 200 -\n"
     ]
    },
    {
     "ename": "KeyboardInterrupt",
     "evalue": "",
     "output_type": "error",
     "traceback": [
      "\u001b[1;31m---------------------------------------------------------------------------\u001b[0m",
      "\u001b[1;31mKeyboardInterrupt\u001b[0m                         Traceback (most recent call last)",
      "Input \u001b[1;32mIn [1]\u001b[0m, in \u001b[0;36m<cell line: 60>\u001b[1;34m()\u001b[0m\n\u001b[0;32m     57\u001b[0m server\u001b[38;5;241m.\u001b[39mregister_function(get_logs_slice, \u001b[38;5;124m'\u001b[39m\u001b[38;5;124mget_logs_slice\u001b[39m\u001b[38;5;124m'\u001b[39m)\n\u001b[0;32m     59\u001b[0m \u001b[38;5;28mprint\u001b[39m (\u001b[38;5;124m\"\u001b[39m\u001b[38;5;124mListening on port 8018...\u001b[39m\u001b[38;5;124m\"\u001b[39m)\n\u001b[1;32m---> 60\u001b[0m \u001b[43mserver\u001b[49m\u001b[38;5;241;43m.\u001b[39;49m\u001b[43mserve_forever\u001b[49m\u001b[43m(\u001b[49m\u001b[43m)\u001b[49m\n",
      "File \u001b[1;32m~\\anaconda3\\lib\\socketserver.py:232\u001b[0m, in \u001b[0;36mBaseServer.serve_forever\u001b[1;34m(self, poll_interval)\u001b[0m\n\u001b[0;32m    229\u001b[0m selector\u001b[38;5;241m.\u001b[39mregister(\u001b[38;5;28mself\u001b[39m, selectors\u001b[38;5;241m.\u001b[39mEVENT_READ)\n\u001b[0;32m    231\u001b[0m \u001b[38;5;28;01mwhile\u001b[39;00m \u001b[38;5;129;01mnot\u001b[39;00m \u001b[38;5;28mself\u001b[39m\u001b[38;5;241m.\u001b[39m__shutdown_request:\n\u001b[1;32m--> 232\u001b[0m     ready \u001b[38;5;241m=\u001b[39m \u001b[43mselector\u001b[49m\u001b[38;5;241;43m.\u001b[39;49m\u001b[43mselect\u001b[49m\u001b[43m(\u001b[49m\u001b[43mpoll_interval\u001b[49m\u001b[43m)\u001b[49m\n\u001b[0;32m    233\u001b[0m     \u001b[38;5;66;03m# bpo-35017: shutdown() called during select(), exit immediately.\u001b[39;00m\n\u001b[0;32m    234\u001b[0m     \u001b[38;5;28;01mif\u001b[39;00m \u001b[38;5;28mself\u001b[39m\u001b[38;5;241m.\u001b[39m__shutdown_request:\n",
      "File \u001b[1;32m~\\anaconda3\\lib\\selectors.py:324\u001b[0m, in \u001b[0;36mSelectSelector.select\u001b[1;34m(self, timeout)\u001b[0m\n\u001b[0;32m    322\u001b[0m ready \u001b[38;5;241m=\u001b[39m []\n\u001b[0;32m    323\u001b[0m \u001b[38;5;28;01mtry\u001b[39;00m:\n\u001b[1;32m--> 324\u001b[0m     r, w, _ \u001b[38;5;241m=\u001b[39m \u001b[38;5;28;43mself\u001b[39;49m\u001b[38;5;241;43m.\u001b[39;49m\u001b[43m_select\u001b[49m\u001b[43m(\u001b[49m\u001b[38;5;28;43mself\u001b[39;49m\u001b[38;5;241;43m.\u001b[39;49m\u001b[43m_readers\u001b[49m\u001b[43m,\u001b[49m\u001b[43m \u001b[49m\u001b[38;5;28;43mself\u001b[39;49m\u001b[38;5;241;43m.\u001b[39;49m\u001b[43m_writers\u001b[49m\u001b[43m,\u001b[49m\u001b[43m \u001b[49m\u001b[43m[\u001b[49m\u001b[43m]\u001b[49m\u001b[43m,\u001b[49m\u001b[43m \u001b[49m\u001b[43mtimeout\u001b[49m\u001b[43m)\u001b[49m\n\u001b[0;32m    325\u001b[0m \u001b[38;5;28;01mexcept\u001b[39;00m \u001b[38;5;167;01mInterruptedError\u001b[39;00m:\n\u001b[0;32m    326\u001b[0m     \u001b[38;5;28;01mreturn\u001b[39;00m ready\n",
      "File \u001b[1;32m~\\anaconda3\\lib\\selectors.py:315\u001b[0m, in \u001b[0;36mSelectSelector._select\u001b[1;34m(self, r, w, _, timeout)\u001b[0m\n\u001b[0;32m    314\u001b[0m \u001b[38;5;28;01mdef\u001b[39;00m \u001b[38;5;21m_select\u001b[39m(\u001b[38;5;28mself\u001b[39m, r, w, _, timeout\u001b[38;5;241m=\u001b[39m\u001b[38;5;28;01mNone\u001b[39;00m):\n\u001b[1;32m--> 315\u001b[0m     r, w, x \u001b[38;5;241m=\u001b[39m \u001b[43mselect\u001b[49m\u001b[38;5;241;43m.\u001b[39;49m\u001b[43mselect\u001b[49m\u001b[43m(\u001b[49m\u001b[43mr\u001b[49m\u001b[43m,\u001b[49m\u001b[43m \u001b[49m\u001b[43mw\u001b[49m\u001b[43m,\u001b[49m\u001b[43m \u001b[49m\u001b[43mw\u001b[49m\u001b[43m,\u001b[49m\u001b[43m \u001b[49m\u001b[43mtimeout\u001b[49m\u001b[43m)\u001b[49m\n\u001b[0;32m    316\u001b[0m     \u001b[38;5;28;01mreturn\u001b[39;00m r, w \u001b[38;5;241m+\u001b[39m x, []\n",
      "\u001b[1;31mKeyboardInterrupt\u001b[0m: "
     ]
    }
   ],
   "source": [
    "import xmlrpc.client\n",
    "from xmlrpc.server import SimpleXMLRPCServer\n",
    "from xmlrpc.server import SimpleXMLRPCRequestHandler\n",
    "import datetime\n",
    "import os\n",
    "import pandas as pd\n",
    "\n",
    "\n",
    "class RequestHandler(SimpleXMLRPCRequestHandler):\n",
    "    rpc_paths = ('/RPC2',)\n",
    "server = SimpleXMLRPCServer((\"127.0.0.1\", 8018),\n",
    "                            requestHandler=RequestHandler)\n",
    "\n",
    "# Настройка максимального размера лога\n",
    "max_log_size = 10\n",
    "current_log_size = None\n",
    "# Данные файла лога\n",
    "log_path = 'log/'\n",
    "\n",
    "# Добавление строки в лог\n",
    "def add_log(sname, work_time):\n",
    "    global log_path\n",
    "    global current_log_size\n",
    "    if current_log_size is None:\n",
    "        f = open(log_path + 'log.csv','w+')\n",
    "        current_log_size = len(f.read().split('\\n')) - 1\n",
    "        f.close()\n",
    "    f = open(log_path + 'log.csv','a')\n",
    "    f.write(sname + ',' + datetime.datetime.now().strftime('%Y%m%dT%H:%M:%S') + ',' + str(work_time) + '\\n')\n",
    "    f.close()\n",
    "    current_log_size += 1\n",
    "    check_log_size()\n",
    "    return True\n",
    "server.register_function(add_log, 'add_log')\n",
    "\n",
    "# Проверка размера лога, сохранение лога в отдельный файл\n",
    "def check_log_size():\n",
    "    global log_path\n",
    "    global max_log_size\n",
    "    global current_log_size\n",
    "    if current_log_size == max_log_size:\n",
    "        os.rename(log_path + 'log.csv', log_path + 'log_' + datetime.datetime.now().strftime(\"%Y%m%d_%H%M%S\") + '.csv')\n",
    "        current_log_size = 0\n",
    "\n",
    "def get_logs_slice(p_type, s_time, e_time, max_work_time):\n",
    "    global log_path\n",
    "    f = open(log_path + 'log.csv','r')\n",
    "    text = f.read().split('\\n')\n",
    "    logs = []\n",
    "    for line in text:\n",
    "        if line != '':\n",
    "            log = line.split(',')\n",
    "            if (p_type == 'all' or log[0] == p_type) and (s_time == '' or log[1] >= s_time) and (e_time == '' or log[1] <= e_time) and (max_work_time == '' or float(log[2]) <= max_work_time):\n",
    "                logs.append((log[0], log[1], log[2]))\n",
    "    f.close()\n",
    "    return logs        \n",
    "server.register_function(get_logs_slice, 'get_logs_slice')\n",
    "\n",
    "print (\"Listening on port 8018...\")\n",
    "server.serve_forever()"
   ]
  },
  {
   "cell_type": "code",
   "execution_count": null,
   "metadata": {},
   "outputs": [],
   "source": []
  },
  {
   "cell_type": "code",
   "execution_count": null,
   "metadata": {},
   "outputs": [],
   "source": []
  }
 ],
 "metadata": {
  "kernelspec": {
   "display_name": "Python 3 (ipykernel)",
   "language": "python",
   "name": "python3"
  },
  "language_info": {
   "codemirror_mode": {
    "name": "ipython",
    "version": 3
   },
   "file_extension": ".py",
   "mimetype": "text/x-python",
   "name": "python",
   "nbconvert_exporter": "python",
   "pygments_lexer": "ipython3",
   "version": "3.9.12"
  }
 },
 "nbformat": 4,
 "nbformat_minor": 4
}
