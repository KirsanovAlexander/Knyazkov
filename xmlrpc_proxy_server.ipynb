{
 "cells": [
  {
   "cell_type": "code",
   "execution_count": 1,
   "metadata": {
    "ExecuteTime": {
     "start_time": "2023-12-05T07:50:01.622597600Z"
    },
    "is_executing": true
   },
   "outputs": [
    {
     "name": "stdout",
     "output_type": "stream",
     "text": [
      "Listening on port 8010...\n"
     ]
    },
    {
     "name": "stderr",
     "output_type": "stream",
     "text": [
      "127.0.0.1 - - [19/Dec/2024 19:37:39] \"POST /RPC2 HTTP/1.1\" 200 -\n",
      "127.0.0.1 - - [19/Dec/2024 19:37:39] \"POST /RPC2 HTTP/1.1\" 200 -\n",
      "127.0.0.1 - - [19/Dec/2024 19:40:30] \"POST /RPC2 HTTP/1.1\" 200 -\n",
      "127.0.0.1 - - [19/Dec/2024 19:40:30] \"POST /RPC2 HTTP/1.1\" 200 -\n",
      "127.0.0.1 - - [19/Dec/2024 19:46:09] \"POST /RPC2 HTTP/1.1\" 200 -\n",
      "127.0.0.1 - - [19/Dec/2024 19:46:09] \"POST /RPC2 HTTP/1.1\" 200 -\n"
     ]
    },
    {
     "ename": "KeyboardInterrupt",
     "evalue": "",
     "output_type": "error",
     "traceback": [
      "\u001b[1;31m---------------------------------------------------------------------------\u001b[0m",
      "\u001b[1;31mKeyboardInterrupt\u001b[0m                         Traceback (most recent call last)",
      "Input \u001b[1;32mIn [1]\u001b[0m, in \u001b[0;36m<cell line: 47>\u001b[1;34m()\u001b[0m\n\u001b[0;32m     44\u001b[0m proxy_server\u001b[38;5;241m.\u001b[39mregister_function(get_logs_slice, \u001b[38;5;124m'\u001b[39m\u001b[38;5;124mget_logs_slice\u001b[39m\u001b[38;5;124m'\u001b[39m)\n\u001b[0;32m     46\u001b[0m \u001b[38;5;28mprint\u001b[39m (\u001b[38;5;124m\"\u001b[39m\u001b[38;5;124mListening on port 8010...\u001b[39m\u001b[38;5;124m\"\u001b[39m)\n\u001b[1;32m---> 47\u001b[0m \u001b[43mproxy_server\u001b[49m\u001b[38;5;241;43m.\u001b[39;49m\u001b[43mserve_forever\u001b[49m\u001b[43m(\u001b[49m\u001b[43m)\u001b[49m\n",
      "File \u001b[1;32m~\\anaconda3\\lib\\socketserver.py:232\u001b[0m, in \u001b[0;36mBaseServer.serve_forever\u001b[1;34m(self, poll_interval)\u001b[0m\n\u001b[0;32m    229\u001b[0m selector\u001b[38;5;241m.\u001b[39mregister(\u001b[38;5;28mself\u001b[39m, selectors\u001b[38;5;241m.\u001b[39mEVENT_READ)\n\u001b[0;32m    231\u001b[0m \u001b[38;5;28;01mwhile\u001b[39;00m \u001b[38;5;129;01mnot\u001b[39;00m \u001b[38;5;28mself\u001b[39m\u001b[38;5;241m.\u001b[39m__shutdown_request:\n\u001b[1;32m--> 232\u001b[0m     ready \u001b[38;5;241m=\u001b[39m \u001b[43mselector\u001b[49m\u001b[38;5;241;43m.\u001b[39;49m\u001b[43mselect\u001b[49m\u001b[43m(\u001b[49m\u001b[43mpoll_interval\u001b[49m\u001b[43m)\u001b[49m\n\u001b[0;32m    233\u001b[0m     \u001b[38;5;66;03m# bpo-35017: shutdown() called during select(), exit immediately.\u001b[39;00m\n\u001b[0;32m    234\u001b[0m     \u001b[38;5;28;01mif\u001b[39;00m \u001b[38;5;28mself\u001b[39m\u001b[38;5;241m.\u001b[39m__shutdown_request:\n",
      "File \u001b[1;32m~\\anaconda3\\lib\\selectors.py:324\u001b[0m, in \u001b[0;36mSelectSelector.select\u001b[1;34m(self, timeout)\u001b[0m\n\u001b[0;32m    322\u001b[0m ready \u001b[38;5;241m=\u001b[39m []\n\u001b[0;32m    323\u001b[0m \u001b[38;5;28;01mtry\u001b[39;00m:\n\u001b[1;32m--> 324\u001b[0m     r, w, _ \u001b[38;5;241m=\u001b[39m \u001b[38;5;28;43mself\u001b[39;49m\u001b[38;5;241;43m.\u001b[39;49m\u001b[43m_select\u001b[49m\u001b[43m(\u001b[49m\u001b[38;5;28;43mself\u001b[39;49m\u001b[38;5;241;43m.\u001b[39;49m\u001b[43m_readers\u001b[49m\u001b[43m,\u001b[49m\u001b[43m \u001b[49m\u001b[38;5;28;43mself\u001b[39;49m\u001b[38;5;241;43m.\u001b[39;49m\u001b[43m_writers\u001b[49m\u001b[43m,\u001b[49m\u001b[43m \u001b[49m\u001b[43m[\u001b[49m\u001b[43m]\u001b[49m\u001b[43m,\u001b[49m\u001b[43m \u001b[49m\u001b[43mtimeout\u001b[49m\u001b[43m)\u001b[49m\n\u001b[0;32m    325\u001b[0m \u001b[38;5;28;01mexcept\u001b[39;00m \u001b[38;5;167;01mInterruptedError\u001b[39;00m:\n\u001b[0;32m    326\u001b[0m     \u001b[38;5;28;01mreturn\u001b[39;00m ready\n",
      "File \u001b[1;32m~\\anaconda3\\lib\\selectors.py:315\u001b[0m, in \u001b[0;36mSelectSelector._select\u001b[1;34m(self, r, w, _, timeout)\u001b[0m\n\u001b[0;32m    314\u001b[0m \u001b[38;5;28;01mdef\u001b[39;00m \u001b[38;5;21m_select\u001b[39m(\u001b[38;5;28mself\u001b[39m, r, w, _, timeout\u001b[38;5;241m=\u001b[39m\u001b[38;5;28;01mNone\u001b[39;00m):\n\u001b[1;32m--> 315\u001b[0m     r, w, x \u001b[38;5;241m=\u001b[39m \u001b[43mselect\u001b[49m\u001b[38;5;241;43m.\u001b[39;49m\u001b[43mselect\u001b[49m\u001b[43m(\u001b[49m\u001b[43mr\u001b[49m\u001b[43m,\u001b[49m\u001b[43m \u001b[49m\u001b[43mw\u001b[49m\u001b[43m,\u001b[49m\u001b[43m \u001b[49m\u001b[43mw\u001b[49m\u001b[43m,\u001b[49m\u001b[43m \u001b[49m\u001b[43mtimeout\u001b[49m\u001b[43m)\u001b[49m\n\u001b[0;32m    316\u001b[0m     \u001b[38;5;28;01mreturn\u001b[39;00m r, w \u001b[38;5;241m+\u001b[39m x, []\n",
      "\u001b[1;31mKeyboardInterrupt\u001b[0m: "
     ]
    }
   ],
   "source": [
    "from xmlrpc.server import SimpleXMLRPCServer\n",
    "from xmlrpc.server import SimpleXMLRPCRequestHandler\n",
    "import xmlrpc.client as client\n",
    "import datetime\n",
    "\n",
    "\n",
    "class RequestHandler(SimpleXMLRPCRequestHandler):\n",
    "    rpc_paths = ('/RPC2',)\n",
    "proxy_server = SimpleXMLRPCServer((\"127.0.0.1\", 8010), requestHandler=RequestHandler)\n",
    "server = client.ServerProxy(\"http://127.0.0.1:8008\")\n",
    "stats_server = client.ServerProxy(\"http://127.0.0.1:8018\")\n",
    "stats2_server = client.ServerProxy(\"http://127.0.0.1:8019\")\n",
    "\n",
    "\n",
    "# Приём команд от клиента и передача их на сервер, а затем возврат результата\n",
    "def execute_function(func_name, *params):\n",
    "    try:\n",
    "        work_time = datetime.datetime.now()\n",
    "        result = eval('server.' + func_name)(*params)\n",
    "        work_time = datetime.datetime.now() - work_time\n",
    "        add_log(func_name, work_time.total_seconds(), 1)\n",
    "        add_log(func_name, work_time.total_seconds(), 2)\n",
    "        return result\n",
    "    except:\n",
    "        return 'Server is not available'\n",
    "proxy_server.register_function(execute_function, 'execute')\n",
    "\n",
    "# Добавление в лог через сервер\n",
    "def add_log(func_name, work_time, server_number):\n",
    "    s = stats_server if server_number == 1 else stats2_server\n",
    "    try:\n",
    "        s.add_log(func_name, work_time)\n",
    "        return True\n",
    "    finally:\n",
    "        return False\n",
    "\n",
    "# Получение данных из лога\n",
    "def get_logs_slice(p_type, s_time, e_time, max_work_time, server_number):\n",
    "    s = stats_server if server_number == 1 else stats2_server\n",
    "    try:\n",
    "        return s.get_logs_slice(p_type, s_time, e_time, max_work_time)\n",
    "    except:\n",
    "        return 'Log server is not available'\n",
    "proxy_server.register_function(get_logs_slice, 'get_logs_slice')\n",
    "\n",
    "print (\"Listening on port 8010...\")\n",
    "proxy_server.serve_forever()"
   ]
  },
  {
   "cell_type": "code",
   "execution_count": null,
   "metadata": {},
   "outputs": [],
   "source": []
  },
  {
   "cell_type": "code",
   "execution_count": null,
   "metadata": {},
   "outputs": [],
   "source": []
  }
 ],
 "metadata": {
  "kernelspec": {
   "display_name": "Python 3 (ipykernel)",
   "language": "python",
   "name": "python3"
  },
  "language_info": {
   "codemirror_mode": {
    "name": "ipython",
    "version": 3
   },
   "file_extension": ".py",
   "mimetype": "text/x-python",
   "name": "python",
   "nbconvert_exporter": "python",
   "pygments_lexer": "ipython3",
   "version": "3.9.12"
  }
 },
 "nbformat": 4,
 "nbformat_minor": 4
}
